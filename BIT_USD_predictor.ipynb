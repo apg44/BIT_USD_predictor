# BTC-USD con BTC+ETH

## Descarga y preprocesado de los datos

# Carga de librerias
import numpy as np
import matplotlib.pyplot as plt
import pandas as pd
from google.colab import drive

from sklearn.preprocessing import MinMaxScaler

from keras.models import Sequential
from keras.layers import Dense
from keras.layers import LSTM
from keras.layers import Dropout

# Carga de dataset
drive.mount('/content/drive')
train_path = '/content/drive/MyDrive/Colab Notebooks/Curso Deep Learning/data/BTC-USD_train.csv'
dataset_train = pd.read_csv(train_path)
# Sustitución de los NA de la columna ETH por el valor anterior
dataset_train['ETH'] = dataset_train['ETH'].fillna(method = 'backfill')
# Correlación entre variables
dataset_train.corr()

# Vector con las variables que necesitamos ('Open' y 'ETH')
training_set = dataset_train.iloc[:, [1,8]].values

# Escalado
sc = MinMaxScaler(feature_range = (0, 1))
training_set_scaled = sc.fit_transform(training_set)

# Creación de estructura de datos con 60 pasos de tiempo y 1 saluda
BTC_train = []
ETH_train = []
y_train = []

time_step = 60

for i in range(time_step, len(training_set_scaled)):
    BTC_train.append(training_set_scaled[i-time_step:i, 0]) # Primera columna (BTC)
    ETH_train.append(training_set_scaled[i-time_step:i, 1]) # Segunda columna (ETH)
    y_train.append(training_set_scaled[i, 0])

# Transformación de la lista de python a array de numpy (matriz)
BTC_train, ETH_train, y_train = np.array(BTC_train), np.array(ETH_train), np.array(y_train)
print('Matriz 2D ' + str(BTC_train.shape) + str(ETH_train.shape))

# Redimensionado con la misma fila [0], misma columna [1] y una dimensión más de "fondo"
BTC_train = np.reshape(BTC_train, (BTC_train.shape[0], BTC_train.shape[1], 1))
ETH_train = np.reshape(ETH_train, (ETH_train.shape[0], ETH_train.shape[1], 1))
print('Matriz 3D ' + str(BTC_train.shape) + str(ETH_train.shape))

# Redimensionamiento para adaptar al formato requerido por RNN (batch_size, timestep, input_dim)
X_train = np.append(BTC_train, ETH_train, axis = 2)
print('Matriz 3D final' + str(X_train.shape))

## Creación y entrenamiento del modelo

# MODELO
# Creación del objeto
regressor = Sequential()

# Primera capa
regressor.add(LSTM(units = 100, return_sequences = True, input_shape = (X_train.shape[1], X_train.shape[2])))
regressor.add(Dropout(0.2))

# Segunda capa
regressor.add(LSTM(units = 100, return_sequences = True))
regressor.add(Dropout(0.2))

# Tercera capa
regressor.add(LSTM(units = 100, return_sequences = True))
regressor.add(Dropout(0.2))

# Cuarta capa
regressor.add(LSTM(units = 100, return_sequences = False))
regressor.add(Dropout(0.2))

# Capa de salida
regressor.add(Dense(units = 1))

# Compilación del modelo
regressor.compile(optimizer = 'adam', loss = 'mean_squared_error')

# Entrenamiento del modelo sobre el conjunto test
regressor.fit(X_train, y_train, epochs = 150, batch_size = 50)

## Predicción y Validación del modelo

# Carga de data set de test
test_path = '/content/drive/MyDrive/Colab Notebooks/Curso Deep Learning/data/BTC-USD_test.csv'
dataset_test = pd.read_csv(test_path)
# Sustitución de los NA de la columna ETH por el valor anterior
dataset_test['ETH'] = dataset_test['ETH'].fillna(method = 'backfill')
# Obtención del array con los valores
real_price = dataset_test.iloc[:, 1:8].values

# Concatenación de los dataset train y test con los campos que nos interesa. En este caso se concatena uno encima de otro (axis = 0)
dataset_total = pd.concat((dataset_train[['Open', 'ETH']], dataset_test[['Open', 'ETH']]), axis = 0)

# La predicción se hace a partir de las 60 días previos a la observación: este input calcula el día de inicio y recoge los registros de esa fecha para adelante
inputs = dataset_total[len(dataset_total) - len(dataset_test) - time_step:].values

# Escalado a los datos que acabamos de crear, con el mismo objeto creado anteriormente y solo un transform para mantenener el criterio previo
inputs = sc.transform(inputs)

# Creación de estructura de datos con 60 pasos de tiempo y 1 saluda
BTC_test = []
ETH_test = []

time_step = 60

for i in range(time_step, (time_step + len(dataset_test))):
    BTC_test.append(inputs[i-time_step:i, 0]) # Primera columna (BTC)
    ETH_test.append(inputs[i-time_step:i, 1]) # Segunda columna (ETH)

# Transformación de la lista de python a array de numpy (matriz)
BTC_test, ETH_test = np.array(BTC_test), np.array(ETH_test)
print('Matriz 2D ' + str(BTC_test.shape) + str(ETH_test.shape))

# Redimensionado con la misma fila [0], misma columna [1] y una dimensión más de "fondo"
BTC_test = np.reshape(BTC_test, (BTC_test.shape[0], BTC_test.shape[1], 1))
ETH_test = np.reshape(ETH_test, (ETH_test.shape[0], ETH_test.shape[1], 1))
print('Matriz 3D ' + str(ETH_test.shape) + str(ETH_test.shape))

# Unión para adaptar al formato requerido por RNN (batch_size, timestep, input_dim)
X_test = np.append(BTC_test, ETH_test, axis = 2)
print('Matriz 3D final' + str(X_test.shape))

# PREDICCIÓN
predicted_price = regressor.predict(X_test)
# Se añade otra columna con valor 0 para que tenga la dimensión adecuada
predicted_price = np.append(predicted_price, ([[0]]*len(dataset_test)), axis = 1)
# Desescalado de los valores predichos
predicted_price = sc.inverse_transform(predicted_price)

plt.plot(real_price[:, 0], color = 'red', label = 'Real BTC-USD')
plt.plot(predicted_price[:, 0], color = 'blue', label = 'Predicted BTC-USD')
plt.title('BTC-USD Prediction')
plt.xlabel('Time (Day)')
plt.ylabel('BTC-USD')
plt.legend()
plt.show()

import math
from sklearn.metrics import mean_squared_error
rmse = math.sqrt(mean_squared_error(real_price[:, 0], predicted_price[:, 0]))
relative_rmse = rmse / dataset_test['Open'].mean()
print('El error relativo del modelo es {:.3} %'.format(relative_rmse * 100))
print('La eficacia relativa del modelo es {:.3} %'.format(100 - relative_rmse * 100))

# Conversión en dataframe
#out_path = ''
df_predicted_price = pd.DataFrame(predicted_price[:, 0])
y_pred_df = df_predicted_price.rename(columns = {0: 'predicted_price'})
y_pred_df

date = []
for i in range(1, 31):
    date.append(f'2021-09-{i}')

y_pred_df['date'] = date
